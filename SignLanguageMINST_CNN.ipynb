{
  "nbformat": 4,
  "nbformat_minor": 0,
  "metadata": {
    "kernelspec": {
      "display_name": "Python 3",
      "language": "python",
      "name": "python3"
    },
    "language_info": {
      "codemirror_mode": {
        "name": "ipython",
        "version": 3
      },
      "file_extension": ".py",
      "mimetype": "text/x-python",
      "name": "python",
      "nbconvert_exporter": "python",
      "pygments_lexer": "ipython3",
      "version": "3.7.4"
    },
    "colab": {
      "name": "SignLanguageMINST_CNN.ipynb",
      "provenance": []
    }
  },
  "cells": [
    {
      "cell_type": "markdown",
      "metadata": {
        "id": "eoKrxx7glERV",
        "colab_type": "text"
      },
      "source": [
        "# Imports"
      ]
    },
    {
      "cell_type": "code",
      "metadata": {
        "id": "JjfH_w6mlERe",
        "colab_type": "code",
        "colab": {},
        "outputId": "ca2447e4-a129-46ec-ad87-efe4fb155c96"
      },
      "source": [
        "import numpy as np\n",
        "import pandas as pd\n",
        "import matplotlib.pyplot as plt\n",
        "from sklearn.preprocessing import LabelBinarizer\n",
        "from sklearn.model_selection import train_test_split\n",
        "from sklearn.metrics import accuracy_score, classification_report\n",
        "from keras.models import Sequential\n",
        "from keras.layers import Dense, Conv2D, MaxPooling2D, Flatten, Dropout"
      ],
      "execution_count": 0,
      "outputs": [
        {
          "output_type": "stream",
          "text": [
            "Using TensorFlow backend.\n"
          ],
          "name": "stderr"
        }
      ]
    },
    {
      "cell_type": "markdown",
      "metadata": {
        "id": "mAe0VwQJlERt",
        "colab_type": "text"
      },
      "source": [
        "# Pre-processing Data"
      ]
    },
    {
      "cell_type": "code",
      "metadata": {
        "id": "pal33qRFlERx",
        "colab_type": "code",
        "colab": {}
      },
      "source": [
        "train = pd.read_csv('sign_mnist_train.csv')"
      ],
      "execution_count": 0,
      "outputs": []
    },
    {
      "cell_type": "code",
      "metadata": {
        "id": "oPbo5fvtlER1",
        "colab_type": "code",
        "colab": {},
        "outputId": "40d6889f-88a1-4f53-8cc4-a4594e676139"
      },
      "source": [
        "train.head()"
      ],
      "execution_count": 0,
      "outputs": [
        {
          "output_type": "execute_result",
          "data": {
            "text/html": [
              "<div>\n",
              "<style scoped>\n",
              "    .dataframe tbody tr th:only-of-type {\n",
              "        vertical-align: middle;\n",
              "    }\n",
              "\n",
              "    .dataframe tbody tr th {\n",
              "        vertical-align: top;\n",
              "    }\n",
              "\n",
              "    .dataframe thead th {\n",
              "        text-align: right;\n",
              "    }\n",
              "</style>\n",
              "<table border=\"1\" class=\"dataframe\">\n",
              "  <thead>\n",
              "    <tr style=\"text-align: right;\">\n",
              "      <th></th>\n",
              "      <th>label</th>\n",
              "      <th>pixel1</th>\n",
              "      <th>pixel2</th>\n",
              "      <th>pixel3</th>\n",
              "      <th>pixel4</th>\n",
              "      <th>pixel5</th>\n",
              "      <th>pixel6</th>\n",
              "      <th>pixel7</th>\n",
              "      <th>pixel8</th>\n",
              "      <th>pixel9</th>\n",
              "      <th>...</th>\n",
              "      <th>pixel775</th>\n",
              "      <th>pixel776</th>\n",
              "      <th>pixel777</th>\n",
              "      <th>pixel778</th>\n",
              "      <th>pixel779</th>\n",
              "      <th>pixel780</th>\n",
              "      <th>pixel781</th>\n",
              "      <th>pixel782</th>\n",
              "      <th>pixel783</th>\n",
              "      <th>pixel784</th>\n",
              "    </tr>\n",
              "  </thead>\n",
              "  <tbody>\n",
              "    <tr>\n",
              "      <td>0</td>\n",
              "      <td>3</td>\n",
              "      <td>107</td>\n",
              "      <td>118</td>\n",
              "      <td>127</td>\n",
              "      <td>134</td>\n",
              "      <td>139</td>\n",
              "      <td>143</td>\n",
              "      <td>146</td>\n",
              "      <td>150</td>\n",
              "      <td>153</td>\n",
              "      <td>...</td>\n",
              "      <td>207</td>\n",
              "      <td>207</td>\n",
              "      <td>207</td>\n",
              "      <td>207</td>\n",
              "      <td>206</td>\n",
              "      <td>206</td>\n",
              "      <td>206</td>\n",
              "      <td>204</td>\n",
              "      <td>203</td>\n",
              "      <td>202</td>\n",
              "    </tr>\n",
              "    <tr>\n",
              "      <td>1</td>\n",
              "      <td>6</td>\n",
              "      <td>155</td>\n",
              "      <td>157</td>\n",
              "      <td>156</td>\n",
              "      <td>156</td>\n",
              "      <td>156</td>\n",
              "      <td>157</td>\n",
              "      <td>156</td>\n",
              "      <td>158</td>\n",
              "      <td>158</td>\n",
              "      <td>...</td>\n",
              "      <td>69</td>\n",
              "      <td>149</td>\n",
              "      <td>128</td>\n",
              "      <td>87</td>\n",
              "      <td>94</td>\n",
              "      <td>163</td>\n",
              "      <td>175</td>\n",
              "      <td>103</td>\n",
              "      <td>135</td>\n",
              "      <td>149</td>\n",
              "    </tr>\n",
              "    <tr>\n",
              "      <td>2</td>\n",
              "      <td>2</td>\n",
              "      <td>187</td>\n",
              "      <td>188</td>\n",
              "      <td>188</td>\n",
              "      <td>187</td>\n",
              "      <td>187</td>\n",
              "      <td>186</td>\n",
              "      <td>187</td>\n",
              "      <td>188</td>\n",
              "      <td>187</td>\n",
              "      <td>...</td>\n",
              "      <td>202</td>\n",
              "      <td>201</td>\n",
              "      <td>200</td>\n",
              "      <td>199</td>\n",
              "      <td>198</td>\n",
              "      <td>199</td>\n",
              "      <td>198</td>\n",
              "      <td>195</td>\n",
              "      <td>194</td>\n",
              "      <td>195</td>\n",
              "    </tr>\n",
              "    <tr>\n",
              "      <td>3</td>\n",
              "      <td>2</td>\n",
              "      <td>211</td>\n",
              "      <td>211</td>\n",
              "      <td>212</td>\n",
              "      <td>212</td>\n",
              "      <td>211</td>\n",
              "      <td>210</td>\n",
              "      <td>211</td>\n",
              "      <td>210</td>\n",
              "      <td>210</td>\n",
              "      <td>...</td>\n",
              "      <td>235</td>\n",
              "      <td>234</td>\n",
              "      <td>233</td>\n",
              "      <td>231</td>\n",
              "      <td>230</td>\n",
              "      <td>226</td>\n",
              "      <td>225</td>\n",
              "      <td>222</td>\n",
              "      <td>229</td>\n",
              "      <td>163</td>\n",
              "    </tr>\n",
              "    <tr>\n",
              "      <td>4</td>\n",
              "      <td>13</td>\n",
              "      <td>164</td>\n",
              "      <td>167</td>\n",
              "      <td>170</td>\n",
              "      <td>172</td>\n",
              "      <td>176</td>\n",
              "      <td>179</td>\n",
              "      <td>180</td>\n",
              "      <td>184</td>\n",
              "      <td>185</td>\n",
              "      <td>...</td>\n",
              "      <td>92</td>\n",
              "      <td>105</td>\n",
              "      <td>105</td>\n",
              "      <td>108</td>\n",
              "      <td>133</td>\n",
              "      <td>163</td>\n",
              "      <td>157</td>\n",
              "      <td>163</td>\n",
              "      <td>164</td>\n",
              "      <td>179</td>\n",
              "    </tr>\n",
              "  </tbody>\n",
              "</table>\n",
              "<p>5 rows × 785 columns</p>\n",
              "</div>"
            ],
            "text/plain": [
              "   label  pixel1  pixel2  pixel3  pixel4  pixel5  pixel6  pixel7  pixel8  \\\n",
              "0      3     107     118     127     134     139     143     146     150   \n",
              "1      6     155     157     156     156     156     157     156     158   \n",
              "2      2     187     188     188     187     187     186     187     188   \n",
              "3      2     211     211     212     212     211     210     211     210   \n",
              "4     13     164     167     170     172     176     179     180     184   \n",
              "\n",
              "   pixel9  ...  pixel775  pixel776  pixel777  pixel778  pixel779  pixel780  \\\n",
              "0     153  ...       207       207       207       207       206       206   \n",
              "1     158  ...        69       149       128        87        94       163   \n",
              "2     187  ...       202       201       200       199       198       199   \n",
              "3     210  ...       235       234       233       231       230       226   \n",
              "4     185  ...        92       105       105       108       133       163   \n",
              "\n",
              "   pixel781  pixel782  pixel783  pixel784  \n",
              "0       206       204       203       202  \n",
              "1       175       103       135       149  \n",
              "2       198       195       194       195  \n",
              "3       225       222       229       163  \n",
              "4       157       163       164       179  \n",
              "\n",
              "[5 rows x 785 columns]"
            ]
          },
          "metadata": {
            "tags": []
          },
          "execution_count": 3
        }
      ]
    },
    {
      "cell_type": "code",
      "metadata": {
        "id": "Hmhldv5dlER8",
        "colab_type": "code",
        "colab": {}
      },
      "source": [
        "#Separating labels and train data.\n",
        "labels = train['label']\n",
        "train = train.drop(['label'],axis=1)"
      ],
      "execution_count": 0,
      "outputs": []
    },
    {
      "cell_type": "code",
      "metadata": {
        "id": "c4oy6mA4lESN",
        "colab_type": "code",
        "colab": {},
        "outputId": "8d79cea4-af05-4fb4-9fb7-a0e8e9214e6a"
      },
      "source": [
        "plt.imshow(train[0].reshape(28,28),cmap='gray')"
      ],
      "execution_count": 0,
      "outputs": [
        {
          "output_type": "execute_result",
          "data": {
            "text/plain": [
              "<matplotlib.image.AxesImage at 0x272885e5bc8>"
            ]
          },
          "metadata": {
            "tags": []
          },
          "execution_count": 6
        },
        {
          "output_type": "display_data",
          "data": {
            "image/png": "[encoded data removed]",
            "text/plain": [
              "<Figure size 432x288 with 1 Axes>"
            ]
          },
          "metadata": {
            "tags": [],
            "needs_background": "light"
          }
        }
      ]
    },
    {
      "cell_type": "code",
      "metadata": {
        "id": "D3b4emKWlESQ",
        "colab_type": "code",
        "colab": {}
      },
      "source": [
        "#Binarizing labels\n",
        "lbl_binarizer = LabelBinarizer()\n",
        "labels = lbl_binarizer.fit_transform(labels)"
      ],
      "execution_count": 0,
      "outputs": []
    },
    {
      "cell_type": "code",
      "metadata": {
        "id": "588aINqGlESU",
        "colab_type": "code",
        "colab": {},
        "outputId": "a0607a8b-547e-4e3c-b5a2-761ddc2b104e"
      },
      "source": [
        "labels"
      ],
      "execution_count": 0,
      "outputs": [
        {
          "output_type": "execute_result",
          "data": {
            "text/plain": [
              "array([[0, 0, 0, ..., 0, 0, 0],\n",
              "       [0, 0, 0, ..., 0, 0, 0],\n",
              "       [0, 0, 1, ..., 0, 0, 0],\n",
              "       ...,\n",
              "       [0, 0, 0, ..., 0, 0, 0],\n",
              "       [0, 0, 0, ..., 0, 0, 0],\n",
              "       [0, 0, 0, ..., 0, 1, 0]])"
            ]
          },
          "metadata": {
            "tags": []
          },
          "execution_count": 8
        }
      ]
    },
    {
      "cell_type": "code",
      "metadata": {
        "id": "ZztdDYVblESX",
        "colab_type": "code",
        "colab": {}
      },
      "source": [
        "#Performing a train-test split\n",
        "#67% train data\n",
        "#33% test data\n",
        "X_train, X_test, y_train, y_test = train_test_split(train, labels, test_size=0.33, random_state=42)"
      ],
      "execution_count": 0,
      "outputs": []
    },
    {
      "cell_type": "code",
      "metadata": {
        "id": "j7UYUnyOlESa",
        "colab_type": "code",
        "colab": {}
      },
      "source": [
        "#Normalizing Data\n",
        "X_train = X_train / 255\n",
        "X_test = X_test / 255\n",
        "X_train = X_train.reshape(X_train.shape[0],28,28,1)\n",
        "X_test = X_test.reshape(X_test.shape[0],28,28,1)"
      ],
      "execution_count": 0,
      "outputs": []
    },
    {
      "cell_type": "markdown",
      "metadata": {
        "id": "n_VAwCnFlESd",
        "colab_type": "text"
      },
      "source": [
        "# CNN Model"
      ]
    },
    {
      "cell_type": "code",
      "metadata": {
        "id": "NfDt5SuylESe",
        "colab_type": "code",
        "colab": {},
        "outputId": "4cd1f45d-e180-4cfb-d152-7ef523432577"
      },
      "source": [
        "model = Sequential()\n",
        "model.add(Conv2D(64, kernel_size=(3,3), input_shape=(28, 28 ,1), activation = 'relu'))\n",
        "model.add(MaxPooling2D(pool_size = (2, 2)))\n",
        "model.add(Conv2D(64, kernel_size = (3, 3), activation = 'relu'))\n",
        "model.add(MaxPooling2D(pool_size = (2, 2)))\n",
        "model.add(Conv2D(64, kernel_size = (3, 3), activation = 'relu'))\n",
        "model.add(MaxPooling2D(pool_size = (2, 2)))\n",
        "model.add(Flatten())\n",
        "model.add(Dense(128, activation = 'relu'))\n",
        "model.add(Dropout(0.2))\n",
        "model.add(Dense(24, activation = 'softmax'))\n",
        "model.compile(loss='categorical_crossentropy', optimizer='adam',metrics=['accuracy'])"
      ],
      "execution_count": 0,
      "outputs": [
        {
          "output_type": "stream",
          "text": [
            "WARNING: Logging before flag parsing goes to stderr.\n",
            "W0929 23:58:55.669778 11132 deprecation_wrapper.py:119] From C:\\Users\\gaurav\\Anaconda3\\envs\\ML-gpu\\lib\\site-packages\\keras\\backend\\tensorflow_backend.py:74: The name tf.get_default_graph is deprecated. Please use tf.compat.v1.get_default_graph instead.\n",
            "\n",
            "W0929 23:58:55.682745 11132 deprecation_wrapper.py:119] From C:\\Users\\gaurav\\Anaconda3\\envs\\ML-gpu\\lib\\site-packages\\keras\\backend\\tensorflow_backend.py:517: The name tf.placeholder is deprecated. Please use tf.compat.v1.placeholder instead.\n",
            "\n",
            "W0929 23:58:55.684739 11132 deprecation_wrapper.py:119] From C:\\Users\\gaurav\\Anaconda3\\envs\\ML-gpu\\lib\\site-packages\\keras\\backend\\tensorflow_backend.py:4138: The name tf.random_uniform is deprecated. Please use tf.random.uniform instead.\n",
            "\n",
            "W0929 23:58:55.701693 11132 deprecation_wrapper.py:119] From C:\\Users\\gaurav\\Anaconda3\\envs\\ML-gpu\\lib\\site-packages\\keras\\backend\\tensorflow_backend.py:3976: The name tf.nn.max_pool is deprecated. Please use tf.nn.max_pool2d instead.\n",
            "\n",
            "W0929 23:58:55.753555 11132 deprecation_wrapper.py:119] From C:\\Users\\gaurav\\Anaconda3\\envs\\ML-gpu\\lib\\site-packages\\keras\\backend\\tensorflow_backend.py:133: The name tf.placeholder_with_default is deprecated. Please use tf.compat.v1.placeholder_with_default instead.\n",
            "\n",
            "W0929 23:58:55.759539 11132 deprecation.py:506] From C:\\Users\\gaurav\\Anaconda3\\envs\\ML-gpu\\lib\\site-packages\\keras\\backend\\tensorflow_backend.py:3445: calling dropout (from tensorflow.python.ops.nn_ops) with keep_prob is deprecated and will be removed in a future version.\n",
            "Instructions for updating:\n",
            "Please use `rate` instead of `keep_prob`. Rate should be set to `rate = 1 - keep_prob`.\n",
            "W0929 23:58:55.790456 11132 deprecation_wrapper.py:119] From C:\\Users\\gaurav\\Anaconda3\\envs\\ML-gpu\\lib\\site-packages\\keras\\optimizers.py:790: The name tf.train.Optimizer is deprecated. Please use tf.compat.v1.train.Optimizer instead.\n",
            "\n",
            "W0929 23:58:55.812399 11132 deprecation_wrapper.py:119] From C:\\Users\\gaurav\\Anaconda3\\envs\\ML-gpu\\lib\\site-packages\\keras\\backend\\tensorflow_backend.py:3295: The name tf.log is deprecated. Please use tf.math.log instead.\n",
            "\n"
          ],
          "name": "stderr"
        }
      ]
    },
    {
      "cell_type": "code",
      "metadata": {
        "id": "768q1zmSlESl",
        "colab_type": "code",
        "colab": {},
        "outputId": "7352aaf0-14db-4efa-a367-bb83cc0483fa"
      },
      "source": [
        "model.fit(X_train,y_train,batch_size=120,epochs=20,validation_data=(X_test,y_test),verbose=1)"
      ],
      "execution_count": 0,
      "outputs": [
        {
          "output_type": "stream",
          "text": [
            "W0929 23:58:55.908370 11132 deprecation.py:323] From C:\\Users\\gaurav\\Anaconda3\\envs\\ML-gpu\\lib\\site-packages\\tensorflow\\python\\ops\\math_grad.py:1250: add_dispatch_support.<locals>.wrapper (from tensorflow.python.ops.array_ops) is deprecated and will be removed in a future version.\n",
            "Instructions for updating:\n",
            "Use tf.where in 2.0, which has the same broadcast rule as np.where\n"
          ],
          "name": "stderr"
        },
        {
          "output_type": "stream",
          "text": [
            "Train on 18394 samples, validate on 9061 samples\n",
            "Epoch 1/20\n",
            "18394/18394 [==============================] - 5s 273us/step - loss: 2.5398 - acc: 0.2255 - val_loss: 1.4297 - val_acc: 0.5583\n",
            "Epoch 2/20\n",
            "18394/18394 [==============================] - 1s 63us/step - loss: 1.1412 - acc: 0.6155 - val_loss: 0.7267 - val_acc: 0.7766\n",
            "Epoch 3/20\n",
            "18394/18394 [==============================] - 1s 63us/step - loss: 0.7118 - acc: 0.7548 - val_loss: 0.4727 - val_acc: 0.8535\n",
            "Epoch 4/20\n",
            "18394/18394 [==============================] - 1s 64us/step - loss: 0.4719 - acc: 0.8417 - val_loss: 0.3144 - val_acc: 0.9044\n",
            "Epoch 5/20\n",
            "18394/18394 [==============================] - 1s 64us/step - loss: 0.3137 - acc: 0.8953 - val_loss: 0.1867 - val_acc: 0.9480\n",
            "Epoch 6/20\n",
            "18394/18394 [==============================] - 1s 64us/step - loss: 0.2159 - acc: 0.9301 - val_loss: 0.1947 - val_acc: 0.9369\n",
            "Epoch 7/20\n",
            "18394/18394 [==============================] - 1s 65us/step - loss: 0.1573 - acc: 0.9518 - val_loss: 0.0802 - val_acc: 0.9833\n",
            "Epoch 8/20\n",
            "18394/18394 [==============================] - 1s 64us/step - loss: 0.1056 - acc: 0.9696 - val_loss: 0.0429 - val_acc: 0.9944\n",
            "Epoch 9/20\n",
            "18394/18394 [==============================] - 1s 64us/step - loss: 0.0772 - acc: 0.9790 - val_loss: 0.0393 - val_acc: 0.9922\n",
            "Epoch 10/20\n",
            "18394/18394 [==============================] - 1s 64us/step - loss: 0.0552 - acc: 0.9853 - val_loss: 0.0224 - val_acc: 0.9970\n",
            "Epoch 11/20\n",
            "18394/18394 [==============================] - 1s 64us/step - loss: 0.0426 - acc: 0.9895 - val_loss: 0.0148 - val_acc: 0.9986\n",
            "Epoch 12/20\n",
            "18394/18394 [==============================] - 1s 64us/step - loss: 0.0355 - acc: 0.9910 - val_loss: 0.0260 - val_acc: 0.9929\n",
            "Epoch 13/20\n",
            "18394/18394 [==============================] - 1s 64us/step - loss: 0.0354 - acc: 0.9908 - val_loss: 0.0171 - val_acc: 0.9966\n",
            "Epoch 14/20\n",
            "18394/18394 [==============================] - 1s 64us/step - loss: 0.0243 - acc: 0.9939 - val_loss: 0.0090 - val_acc: 0.9987\n",
            "Epoch 15/20\n",
            "18394/18394 [==============================] - 1s 64us/step - loss: 0.0216 - acc: 0.9953 - val_loss: 0.0056 - val_acc: 0.9994\n",
            "Epoch 16/20\n",
            "18394/18394 [==============================] - 1s 66us/step - loss: 0.0186 - acc: 0.9959 - val_loss: 0.0038 - val_acc: 0.9994\n",
            "Epoch 17/20\n",
            "18394/18394 [==============================] - 1s 64us/step - loss: 0.0170 - acc: 0.9957 - val_loss: 0.0036 - val_acc: 0.9998\n",
            "Epoch 18/20\n",
            "18394/18394 [==============================] - 1s 64us/step - loss: 0.0169 - acc: 0.9957 - val_loss: 0.0047 - val_acc: 0.9996\n",
            "Epoch 19/20\n",
            "18394/18394 [==============================] - 1s 65us/step - loss: 0.0134 - acc: 0.9968 - val_loss: 0.0048 - val_acc: 0.9993\n",
            "Epoch 20/20\n",
            "18394/18394 [==============================] - 1s 64us/step - loss: 0.0108 - acc: 0.9977 - val_loss: 0.0019 - val_acc: 0.9999\n"
          ],
          "name": "stdout"
        },
        {
          "output_type": "execute_result",
          "data": {
            "text/plain": [
              "<keras.callbacks.History at 0x272885ad208>"
            ]
          },
          "metadata": {
            "tags": []
          },
          "execution_count": 12
        }
      ]
    },
    {
      "cell_type": "markdown",
      "metadata": {
        "id": "arA1ifg2lESp",
        "colab_type": "text"
      },
      "source": [
        "# Generating Results"
      ]
    },
    {
      "cell_type": "code",
      "metadata": {
        "id": "GQmg20EvlESq",
        "colab_type": "code",
        "colab": {}
      },
      "source": [
        "predictions = model.predict_classes(X_test)"
      ],
      "execution_count": 0,
      "outputs": []
    },
    {
      "cell_type": "code",
      "metadata": {
        "id": "cg-fQqvalESs",
        "colab_type": "code",
        "colab": {}
      },
      "source": [
        "y_test = [np.argmax(y_test[i]) for i in range(len(predictions))]"
      ],
      "execution_count": 0,
      "outputs": []
    },
    {
      "cell_type": "code",
      "metadata": {
        "id": "uLiJKOVhlESu",
        "colab_type": "code",
        "colab": {},
        "outputId": "51023814-0b8a-467f-bf5f-56d54ad2f0fe"
      },
      "source": [
        "print(classification_report(y_test,predictions))"
      ],
      "execution_count": 0,
      "outputs": [
        {
          "output_type": "stream",
          "text": [
            "              precision    recall  f1-score   support\n",
            "\n",
            "           0       1.00      1.00      1.00       354\n",
            "           1       1.00      1.00      1.00       302\n",
            "           2       1.00      1.00      1.00       378\n",
            "           3       1.00      1.00      1.00       407\n",
            "           4       1.00      1.00      1.00       320\n",
            "           5       1.00      1.00      1.00       407\n",
            "           6       1.00      1.00      1.00       348\n",
            "           7       1.00      1.00      1.00       339\n",
            "           8       1.00      1.00      1.00       392\n",
            "           9       1.00      1.00      1.00       373\n",
            "          10       1.00      1.00      1.00       424\n",
            "          11       1.00      1.00      1.00       362\n",
            "          12       1.00      1.00      1.00       377\n",
            "          13       1.00      1.00      1.00       400\n",
            "          14       1.00      1.00      1.00       349\n",
            "          15       1.00      1.00      1.00       436\n",
            "          16       1.00      1.00      1.00       432\n",
            "          17       1.00      1.00      1.00       445\n",
            "          18       1.00      1.00      1.00       379\n",
            "          19       1.00      1.00      1.00       384\n",
            "          20       1.00      1.00      1.00       326\n",
            "          21       1.00      1.00      1.00       403\n",
            "          22       1.00      1.00      1.00       381\n",
            "          23       1.00      1.00      1.00       343\n",
            "\n",
            "    accuracy                           1.00      9061\n",
            "   macro avg       1.00      1.00      1.00      9061\n",
            "weighted avg       1.00      1.00      1.00      9061\n",
            "\n"
          ],
          "name": "stdout"
        }
      ]
    },
    {
      "cell_type": "code",
      "metadata": {
        "id": "jjTUC-VRlESx",
        "colab_type": "code",
        "colab": {},
        "outputId": "99c986b0-7061-49c8-c988-46de54b12e9a"
      },
      "source": [
        "print(accuracy_score(y_test,predictions))"
      ],
      "execution_count": 0,
      "outputs": [
        {
          "output_type": "stream",
          "text": [
            "0.9998896369054189\n"
          ],
          "name": "stdout"
        }
      ]
    },
    {
      "cell_type": "code",
      "metadata": {
        "id": "D27P42rilES2",
        "colab_type": "code",
        "colab": {}
      },
      "source": [
        "#Model Saved\n",
        "model.save('MNIST_CNN.h5')"
      ],
      "execution_count": 0,
      "outputs": []
    }
  ]
}